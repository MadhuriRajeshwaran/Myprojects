{
 "cells": [
  {
   "cell_type": "code",
   "execution_count": 31,
   "id": "f3be619d",
   "metadata": {},
   "outputs": [
    {
     "name": "stdout",
     "output_type": "stream",
     "text": [
      "BMI Calculator\n",
      "Enter your height in meters:1.49\n",
      "Enter your weight in kilogram:60.7\n",
      "You are Over weight\n"
     ]
    }
   ],
   "source": [
    "print(\"BMI Calculator\")\n",
    "Height=float(input(\"Enter your height in meters:\"))\n",
    "Weight=float(input(\"Enter your weight in kilogram:\"))\n",
    "X=Height*Height\n",
    "Bmi=(Weight/X)\n",
    "if(Bmi<=18.5):\n",
    "     print(\"You are underweight\")\n",
    "elif(Bmi<=25):\n",
    "    print(\"You are Normal\")\n",
    "elif (Bmi<=30):\n",
    "    print (\"You are Over weight\")\n",
    "else:\n",
    "    print(\"Your are Obese\") "
   ]
  },
  {
   "cell_type": "code",
   "execution_count": null,
   "id": "6f13080b",
   "metadata": {},
   "outputs": [],
   "source": []
  },
  {
   "cell_type": "code",
   "execution_count": null,
   "id": "018e6a01",
   "metadata": {},
   "outputs": [],
   "source": []
  },
  {
   "cell_type": "code",
   "execution_count": null,
   "id": "03d90b64",
   "metadata": {},
   "outputs": [],
   "source": []
  },
  {
   "cell_type": "code",
   "execution_count": null,
   "id": "7337a2d0",
   "metadata": {},
   "outputs": [],
   "source": []
  },
  {
   "cell_type": "code",
   "execution_count": null,
   "id": "22dbc911",
   "metadata": {},
   "outputs": [],
   "source": []
  },
  {
   "cell_type": "code",
   "execution_count": null,
   "id": "1529cc2b",
   "metadata": {},
   "outputs": [],
   "source": []
  },
  {
   "cell_type": "code",
   "execution_count": null,
   "id": "8d3bc677",
   "metadata": {},
   "outputs": [],
   "source": []
  }
 ],
 "metadata": {
  "kernelspec": {
   "display_name": "Python 3 (ipykernel)",
   "language": "python",
   "name": "python3"
  },
  "language_info": {
   "codemirror_mode": {
    "name": "ipython",
    "version": 3
   },
   "file_extension": ".py",
   "mimetype": "text/x-python",
   "name": "python",
   "nbconvert_exporter": "python",
   "pygments_lexer": "ipython3",
   "version": "3.11.3"
  }
 },
 "nbformat": 4,
 "nbformat_minor": 5
}
