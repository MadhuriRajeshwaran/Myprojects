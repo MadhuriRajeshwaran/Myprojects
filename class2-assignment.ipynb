{
 "cells": [
  {
   "cell_type": "code",
   "execution_count": 1,
   "id": "73ff1b34",
   "metadata": {},
   "outputs": [],
   "source": [
    "from classassignment2 import assignment2"
   ]
  },
  {
   "cell_type": "code",
   "execution_count": 8,
   "id": "072c2b80",
   "metadata": {},
   "outputs": [
    {
     "ename": "AttributeError",
     "evalue": "type object 'assignment2' has no attribute 'triangle'",
     "output_type": "error",
     "traceback": [
      "\u001b[1;31m---------------------------------------------------------------------------\u001b[0m",
      "\u001b[1;31mAttributeError\u001b[0m                            Traceback (most recent call last)",
      "Cell \u001b[1;32mIn[8], line 1\u001b[0m\n\u001b[1;32m----> 1\u001b[0m assignment2\u001b[38;5;241m.\u001b[39mtriangle()\n",
      "\u001b[1;31mAttributeError\u001b[0m: type object 'assignment2' has no attribute 'triangle'"
     ]
    }
   ],
   "source": [
    "assignment2.triangle()"
   ]
  },
  {
   "cell_type": "code",
   "execution_count": 3,
   "id": "fb351c4f",
   "metadata": {},
   "outputs": [
    {
     "name": "stdout",
     "output_type": "stream",
     "text": [
      "BMI Calculator\n",
      "Enter your height in meters:4.9\n",
      "Enter your weight in kilogram:60.4\n",
      "You are underweight\n"
     ]
    }
   ],
   "source": [
    "assignment2.BMI()"
   ]
  },
  {
   "cell_type": "code",
   "execution_count": 9,
   "id": "4bf08894",
   "metadata": {},
   "outputs": [
    {
     "ename": "AttributeError",
     "evalue": "type object 'assignment2' has no attribute 'OddEven'",
     "output_type": "error",
     "traceback": [
      "\u001b[1;31m---------------------------------------------------------------------------\u001b[0m",
      "\u001b[1;31mAttributeError\u001b[0m                            Traceback (most recent call last)",
      "Cell \u001b[1;32mIn[9], line 1\u001b[0m\n\u001b[1;32m----> 1\u001b[0m assignment2\u001b[38;5;241m.\u001b[39mOddEven()\n",
      "\u001b[1;31mAttributeError\u001b[0m: type object 'assignment2' has no attribute 'OddEven'"
     ]
    }
   ],
   "source": [
    "assignment2.OddEven()"
   ]
  },
  {
   "cell_type": "code",
   "execution_count": 10,
   "id": "996b02b6",
   "metadata": {},
   "outputs": [
    {
     "ename": "AttributeError",
     "evalue": "type object 'assignment2' has no attribute 'Elegible'",
     "output_type": "error",
     "traceback": [
      "\u001b[1;31m---------------------------------------------------------------------------\u001b[0m",
      "\u001b[1;31mAttributeError\u001b[0m                            Traceback (most recent call last)",
      "Cell \u001b[1;32mIn[10], line 1\u001b[0m\n\u001b[1;32m----> 1\u001b[0m assignment2\u001b[38;5;241m.\u001b[39mElegible()\n",
      "\u001b[1;31mAttributeError\u001b[0m: type object 'assignment2' has no attribute 'Elegible'"
     ]
    }
   ],
   "source": [
    "assignment2.Elegible()"
   ]
  },
  {
   "cell_type": "code",
   "execution_count": 11,
   "id": "79027bae",
   "metadata": {},
   "outputs": [
    {
     "ename": "AttributeError",
     "evalue": "type object 'assignment2' has no attribute 'percentage'",
     "output_type": "error",
     "traceback": [
      "\u001b[1;31m---------------------------------------------------------------------------\u001b[0m",
      "\u001b[1;31mAttributeError\u001b[0m                            Traceback (most recent call last)",
      "Cell \u001b[1;32mIn[11], line 1\u001b[0m\n\u001b[1;32m----> 1\u001b[0m assignment2\u001b[38;5;241m.\u001b[39mpercentage()\n",
      "\u001b[1;31mAttributeError\u001b[0m: type object 'assignment2' has no attribute 'percentage'"
     ]
    }
   ],
   "source": [
    "assignment2.percentage()"
   ]
  },
  {
   "cell_type": "code",
   "execution_count": null,
   "id": "453c362a",
   "metadata": {},
   "outputs": [],
   "source": []
  }
 ],
 "metadata": {
  "kernelspec": {
   "display_name": "Python 3 (ipykernel)",
   "language": "python",
   "name": "python3"
  },
  "language_info": {
   "codemirror_mode": {
    "name": "ipython",
    "version": 3
   },
   "file_extension": ".py",
   "mimetype": "text/x-python",
   "name": "python",
   "nbconvert_exporter": "python",
   "pygments_lexer": "ipython3",
   "version": "3.11.3"
  }
 },
 "nbformat": 4,
 "nbformat_minor": 5
}
