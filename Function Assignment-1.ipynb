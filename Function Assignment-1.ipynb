{
 "cells": [
  {
   "cell_type": "code",
   "execution_count": 2,
   "id": "053f1d89",
   "metadata": {},
   "outputs": [],
   "source": [
    "def subfields():\n",
    "   print(\"Sub-Fields in AI are:\\nMachine learning\\nNeural Networks\\nVision\\nRobotics\\nSpeech Processing\\nNatural Language Processing\")"
   ]
  },
  {
   "cell_type": "code",
   "execution_count": 3,
   "id": "b85e18ca",
   "metadata": {},
   "outputs": [
    {
     "name": "stdout",
     "output_type": "stream",
     "text": [
      "Sub-Fields in AI are:\n",
      "Machine learning\n",
      "Neural Networks\n",
      "Vision\n",
      "Robotics\n",
      "Speech Processing\n",
      "Natural Language Processing\n"
     ]
    }
   ],
   "source": [
    "subfields()"
   ]
  },
  {
   "cell_type": "code",
   "execution_count": 21,
   "id": "efabd499",
   "metadata": {},
   "outputs": [],
   "source": [
    "def OddEven():\n",
    "    x=int (input(\"Enter a number:\"))\n",
    "    if(x%2==1):\n",
    "        print(x,\"is odd\")\n",
    "        Value=\"Odd\"\n",
    "    else: \n",
    "        print(x,\"is even\")\n",
    "        Value=\"Even\"\n",
    "    return Value"
   ]
  },
  {
   "cell_type": "code",
   "execution_count": 22,
   "id": "b0465247",
   "metadata": {
    "scrolled": true
   },
   "outputs": [
    {
     "name": "stdout",
     "output_type": "stream",
     "text": [
      "Enter a number:52452\n",
      "52452 is even\n"
     ]
    },
    {
     "data": {
      "text/plain": [
       "'Even'"
      ]
     },
     "execution_count": 22,
     "metadata": {},
     "output_type": "execute_result"
    }
   ],
   "source": [
    "OddEven()"
   ]
  },
  {
   "cell_type": "code",
   "execution_count": 33,
   "id": "5615def8",
   "metadata": {
    "scrolled": true
   },
   "outputs": [],
   "source": [
    "def Elegible():\n",
    "    Gender=input(\"Your Gender:\")\n",
    "    Age=int(input(\"Your Age:\"))\n",
    "    if(Gender=='Male' and Age>=21):\n",
    "        print(\"Eligible\")\n",
    "    elif(Gender=='Male' and Age<21):\n",
    "        print(\"Not Eligible\")\n",
    "    elif(Gender=='Female' and Age>=18):\n",
    "         print(\"Eligible\")\n",
    "    else:\n",
    "        print(\"Not Eligible\")                    "
   ]
  },
  {
   "cell_type": "code",
   "execution_count": 36,
   "id": "90badb6d",
   "metadata": {},
   "outputs": [
    {
     "name": "stdout",
     "output_type": "stream",
     "text": [
      "Your Gender:Male\n",
      "Your Age:20\n",
      "Not Eligible\n"
     ]
    }
   ],
   "source": [
    "Elegible()"
   ]
  },
  {
   "cell_type": "code",
   "execution_count": 39,
   "id": "88c17984",
   "metadata": {},
   "outputs": [],
   "source": [
    "def percentage(a,b,c,d,e):\n",
    "    Total=a+b+c+d+e\n",
    "    percentage=Total/5\n",
    "    print(\"Subject1=\",a)\n",
    "    print(\"subject2=\",b)\n",
    "    print(\"subject3=\",c)\n",
    "    print(\"subject4=\",d)\n",
    "    print(\"subject5=\",e)\n",
    "    print(\"Total:\",Total)\n",
    "    print(\"Percentage:\",percentage)\n",
    "    return percentage"
   ]
  },
  {
   "cell_type": "code",
   "execution_count": 40,
   "id": "2e2253dc",
   "metadata": {},
   "outputs": [
    {
     "name": "stdout",
     "output_type": "stream",
     "text": [
      "Subject1= 98\n",
      "subject2= 87\n",
      "subject3= 95\n",
      "subject4= 95\n",
      "subject5= 93\n",
      "Total: 468\n",
      "Percentage: 93.6\n"
     ]
    },
    {
     "data": {
      "text/plain": [
       "93.6"
      ]
     },
     "execution_count": 40,
     "metadata": {},
     "output_type": "execute_result"
    }
   ],
   "source": [
    "percentage(98,87,95,95,93)"
   ]
  },
  {
   "cell_type": "code",
   "execution_count": 43,
   "id": "d74330d9",
   "metadata": {},
   "outputs": [],
   "source": [
    "def triangle():\n",
    "    H1= int(input(\"Height:\"))\n",
    "    B1=int(input(\"Breadth:\"))\n",
    "    Area=(H1*B1)/2\n",
    "    print(\"Area of Triangle:\",Area)\n",
    "    X1=int(input(\"Height1:\"))\n",
    "    X2=int(input(\"Height2:\"))\n",
    "    X3=int(input(\"Breadth:\"))\n",
    "    Perimeter=X1+X2+X3\n",
    "    print(\"Perimeter of Triangle:\",Perimeter)\n",
    "    return Area"
   ]
  },
  {
   "cell_type": "code",
   "execution_count": 44,
   "id": "bde07afa",
   "metadata": {},
   "outputs": [
    {
     "name": "stdout",
     "output_type": "stream",
     "text": [
      "Height:32\n",
      "Breadth:34\n",
      "Area of Triangle: 544.0\n",
      "Height1:2\n",
      "Height2:4\n",
      "Breadth:4\n",
      "Perimeter of Triangle: 10\n"
     ]
    },
    {
     "data": {
      "text/plain": [
       "544.0"
      ]
     },
     "execution_count": 44,
     "metadata": {},
     "output_type": "execute_result"
    }
   ],
   "source": [
    "triangle()"
   ]
  },
  {
   "cell_type": "code",
   "execution_count": null,
   "id": "47cc37af",
   "metadata": {},
   "outputs": [],
   "source": []
  }
 ],
 "metadata": {
  "kernelspec": {
   "display_name": "Python 3 (ipykernel)",
   "language": "python",
   "name": "python3"
  },
  "language_info": {
   "codemirror_mode": {
    "name": "ipython",
    "version": 3
   },
   "file_extension": ".py",
   "mimetype": "text/x-python",
   "name": "python",
   "nbconvert_exporter": "python",
   "pygments_lexer": "ipython3",
   "version": "3.11.3"
  }
 },
 "nbformat": 4,
 "nbformat_minor": 5
}
