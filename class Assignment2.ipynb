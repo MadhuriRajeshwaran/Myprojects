{
 "cells": [
  {
   "cell_type": "code",
   "execution_count": 2,
   "id": "07059ff7",
   "metadata": {},
   "outputs": [],
   "source": [
    "from classassignment2 import class1"
   ]
  },
  {
   "cell_type": "code",
   "execution_count": 3,
   "id": "0fd17805",
   "metadata": {},
   "outputs": [
    {
     "name": "stdout",
     "output_type": "stream",
     "text": [
      "BMI Calculator\n",
      "Enter your height in meters:1.49\n",
      "Enter your weight in kilogram:60\n",
      "You are Over weight\n"
     ]
    }
   ],
   "source": [
    "class1.BMI()"
   ]
  },
  {
   "cell_type": "code",
   "execution_count": 4,
   "id": "7db553cb",
   "metadata": {},
   "outputs": [
    {
     "name": "stdout",
     "output_type": "stream",
     "text": [
      "Enter a number:4\n",
      "4 is even\n"
     ]
    },
    {
     "data": {
      "text/plain": [
       "'Even'"
      ]
     },
     "execution_count": 4,
     "metadata": {},
     "output_type": "execute_result"
    }
   ],
   "source": [
    "class1.OddEven()"
   ]
  },
  {
   "cell_type": "code",
   "execution_count": 5,
   "id": "2eb51466",
   "metadata": {},
   "outputs": [
    {
     "name": "stdout",
     "output_type": "stream",
     "text": [
      "Your Gender:Male\n",
      "Your Age:21\n",
      "Eligible\n"
     ]
    },
    {
     "data": {
      "text/plain": [
       "21"
      ]
     },
     "execution_count": 5,
     "metadata": {},
     "output_type": "execute_result"
    }
   ],
   "source": [
    "class1.Elegible()"
   ]
  },
  {
   "cell_type": "code",
   "execution_count": 7,
   "id": "849dc331",
   "metadata": {},
   "outputs": [
    {
     "name": "stdout",
     "output_type": "stream",
     "text": [
      "Height:34\n",
      "Breadth:23\n",
      "Area of Triangle: 391.0\n",
      "Height1:2\n",
      "Height2:3\n",
      "Breadth:5\n",
      "Perimeter of Triangle: 10\n"
     ]
    },
    {
     "data": {
      "text/plain": [
       "391.0"
      ]
     },
     "execution_count": 7,
     "metadata": {},
     "output_type": "execute_result"
    }
   ],
   "source": [
    "class1.triangle()"
   ]
  },
  {
   "cell_type": "code",
   "execution_count": 9,
   "id": "1a91e953",
   "metadata": {},
   "outputs": [
    {
     "name": "stdout",
     "output_type": "stream",
     "text": [
      "Subject1= 67\n",
      "subject2= 78\n",
      "subject3= 89\n",
      "subject4= 90\n",
      "subject5= 86\n",
      "Total: 410\n",
      "Percentage: 82.0\n"
     ]
    },
    {
     "data": {
      "text/plain": [
       "82.0"
      ]
     },
     "execution_count": 9,
     "metadata": {},
     "output_type": "execute_result"
    }
   ],
   "source": [
    "class1.percentage(67,78,89,90,86)"
   ]
  },
  {
   "cell_type": "code",
   "execution_count": null,
   "id": "8a4dd572",
   "metadata": {},
   "outputs": [],
   "source": []
  }
 ],
 "metadata": {
  "kernelspec": {
   "display_name": "Python 3 (ipykernel)",
   "language": "python",
   "name": "python3"
  },
  "language_info": {
   "codemirror_mode": {
    "name": "ipython",
    "version": 3
   },
   "file_extension": ".py",
   "mimetype": "text/x-python",
   "name": "python",
   "nbconvert_exporter": "python",
   "pygments_lexer": "ipython3",
   "version": "3.11.3"
  }
 },
 "nbformat": 4,
 "nbformat_minor": 5
}
