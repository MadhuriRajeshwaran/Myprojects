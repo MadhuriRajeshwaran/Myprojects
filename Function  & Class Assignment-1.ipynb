{
 "cells": [
  {
   "cell_type": "code",
   "execution_count": 8,
   "id": "053f1d89",
   "metadata": {},
   "outputs": [],
   "source": [
    "class SubfieldsInAI():\n",
    "    def subfields():\n",
    "        list=['Machine learning','Neural networks','Vision','Robotics','Speech Processing','Natural Lanuguage Process']\n",
    "        print(*list,sep='\\n')"
   ]
  },
  {
   "cell_type": "code",
   "execution_count": 9,
   "id": "b85e18ca",
   "metadata": {},
   "outputs": [
    {
     "name": "stdout",
     "output_type": "stream",
     "text": [
      "Machine learning\n",
      "Neural networks\n",
      "Vision\n",
      "Robotics\n",
      "Speech Processing\n",
      "Natural Lanuguage Process\n"
     ]
    }
   ],
   "source": [
    "SubfieldsInAI.subfields()"
   ]
  },
  {
   "cell_type": "code",
   "execution_count": 11,
   "id": "efabd499",
   "metadata": {},
   "outputs": [],
   "source": [
    "class OddEven():\n",
    "    def OddEven():\n",
    "        x=int (input(\"Enter a number:\"))\n",
    "        if(x%2==1):\n",
    "            print(x,\"is odd\")\n",
    "            Value=\"Odd\"\n",
    "        else: \n",
    "            print(x,\"is even\")\n",
    "            Value=\"Even\"\n",
    "        return Value"
   ]
  },
  {
   "cell_type": "code",
   "execution_count": 12,
   "id": "b0465247",
   "metadata": {
    "scrolled": true
   },
   "outputs": [
    {
     "name": "stdout",
     "output_type": "stream",
     "text": [
      "Enter a number:52452\n",
      "52452 is even\n"
     ]
    },
    {
     "data": {
      "text/plain": [
       "'Even'"
      ]
     },
     "execution_count": 12,
     "metadata": {},
     "output_type": "execute_result"
    }
   ],
   "source": [
    "OddEven.OddEven()"
   ]
  },
  {
   "cell_type": "code",
   "execution_count": 14,
   "id": "5615def8",
   "metadata": {
    "scrolled": true
   },
   "outputs": [],
   "source": [
    "class ElegiblityForMarriage():\n",
    "    def Elegible():\n",
    "        Gender=input(\"Your Gender:\")\n",
    "        Age=int(input(\"Your Age:\"))\n",
    "        if(Gender=='Male' and Age>=21):\n",
    "            print(\"Eligible\")\n",
    "        elif(Gender=='Male' and Age<21):\n",
    "            print(\"Not Eligible\")\n",
    "        elif(Gender=='Female' and Age>=18):\n",
    "            print(\"Eligible\")\n",
    "        else:\n",
    "            print(\"Not Eligible\")                    "
   ]
  },
  {
   "cell_type": "code",
   "execution_count": 15,
   "id": "90badb6d",
   "metadata": {},
   "outputs": [
    {
     "name": "stdout",
     "output_type": "stream",
     "text": [
      "Your Gender:Male\n",
      "Your Age:20\n",
      "Not Eligible\n"
     ]
    }
   ],
   "source": [
    "ElegiblityForMarriage.Elegible()"
   ]
  },
  {
   "cell_type": "code",
   "execution_count": 16,
   "id": "88c17984",
   "metadata": {},
   "outputs": [],
   "source": [
    "class FindPercent():\n",
    "    def percentage(a,b,c,d,e):\n",
    "        Total=a+b+c+d+e\n",
    "        percentage=Total/5\n",
    "        print(\"Subject1=\",a)\n",
    "        print(\"subject2=\",b)\n",
    "        print(\"subject3=\",c)\n",
    "        print(\"subject4=\",d)\n",
    "        print(\"subject5=\",e)\n",
    "        print(\"Total:\",Total)\n",
    "        print(\"Percentage:\",percentage)\n",
    "        return percentage"
   ]
  },
  {
   "cell_type": "code",
   "execution_count": 17,
   "id": "2e2253dc",
   "metadata": {},
   "outputs": [
    {
     "name": "stdout",
     "output_type": "stream",
     "text": [
      "Subject1= 98\n",
      "subject2= 87\n",
      "subject3= 95\n",
      "subject4= 95\n",
      "subject5= 93\n",
      "Total: 468\n",
      "Percentage: 93.6\n"
     ]
    },
    {
     "data": {
      "text/plain": [
       "93.6"
      ]
     },
     "execution_count": 17,
     "metadata": {},
     "output_type": "execute_result"
    }
   ],
   "source": [
    "FindPercent.percentage(98,87,95,95,93)"
   ]
  },
  {
   "cell_type": "code",
   "execution_count": 18,
   "id": "d74330d9",
   "metadata": {},
   "outputs": [],
   "source": [
    "class triangle:\n",
    "    \n",
    "    def triangle():\n",
    "        H1= int(input(\"Height:\"))\n",
    "        B1=int(input(\"Breadth:\"))\n",
    "        Area=(H1*B1)/2\n",
    "        print(\"Area of Triangle:\",Area)\n",
    "        X1=int(input(\"Height1:\"))\n",
    "        X2=int(input(\"Height2:\"))\n",
    "        X3=int(input(\"Breadth:\"))\n",
    "        Perimeter=X1+X2+X3\n",
    "        print(\"Perimeter of Triangle:\",Perimeter)\n",
    "        return Area"
   ]
  },
  {
   "cell_type": "code",
   "execution_count": 19,
   "id": "bde07afa",
   "metadata": {},
   "outputs": [
    {
     "name": "stdout",
     "output_type": "stream",
     "text": [
      "Height:32\n",
      "Breadth:34\n",
      "Area of Triangle: 544.0\n",
      "Height1:2\n",
      "Height2:4\n",
      "Breadth:4\n",
      "Perimeter of Triangle: 10\n"
     ]
    },
    {
     "data": {
      "text/plain": [
       "544.0"
      ]
     },
     "execution_count": 19,
     "metadata": {},
     "output_type": "execute_result"
    }
   ],
   "source": [
    "triangle.triangle()"
   ]
  },
  {
   "cell_type": "code",
   "execution_count": null,
   "id": "47cc37af",
   "metadata": {},
   "outputs": [],
   "source": []
  }
 ],
 "metadata": {
  "kernelspec": {
   "display_name": "Python 3 (ipykernel)",
   "language": "python",
   "name": "python3"
  },
  "language_info": {
   "codemirror_mode": {
    "name": "ipython",
    "version": 3
   },
   "file_extension": ".py",
   "mimetype": "text/x-python",
   "name": "python",
   "nbconvert_exporter": "python",
   "pygments_lexer": "ipython3",
   "version": "3.11.3"
  }
 },
 "nbformat": 4,
 "nbformat_minor": 5
}
